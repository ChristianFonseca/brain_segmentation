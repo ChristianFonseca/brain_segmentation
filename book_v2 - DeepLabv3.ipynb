{
 "cells": [
  {
   "cell_type": "markdown",
   "id": "e419c593",
   "metadata": {},
   "source": [
    "# Segmentación Semántica de Gliomas Cerebrales en Imágenes de Resonancia Magnética (MRI) utilizando Arquitecturas U-Net con Transfer Learning y Explicabilidad"
   ]
  },
  {
   "cell_type": "markdown",
   "id": "cd9d657d",
   "metadata": {},
   "source": [
    "Integrante: Christian Jefrey Fonseca Rodriguez\n",
    "\n",
    "Grupo 9"
   ]
  },
  {
   "cell_type": "code",
   "execution_count": 1,
   "id": "fbd470ba",
   "metadata": {},
   "outputs": [
    {
     "name": "stderr",
     "output_type": "stream",
     "text": [
      "c:\\Users\\chris\\anaconda3\\envs\\vision\\Lib\\site-packages\\tqdm\\auto.py:21: TqdmWarning: IProgress not found. Please update jupyter and ipywidgets. See https://ipywidgets.readthedocs.io/en/stable/user_install.html\n",
      "  from .autonotebook import tqdm as notebook_tqdm\n"
     ]
    }
   ],
   "source": [
    "import os\n",
    "import glob\n",
    "import numpy as np\n",
    "import matplotlib.pyplot as plt\n",
    "import nibabel as nib  # Para leer archivos de formato NIfTI\n",
    "import torch\n",
    "import torch.nn as nn\n",
    "from torch.utils.data import Dataset, DataLoader\n",
    "import segmentation_models_pytorch as smp # Biblioteca de alto nivel para modelos de segmentación\n",
    "from tqdm import tqdm # Para barras de progreso\n",
    "from sklearn.model_selection import train_test_split\n",
    "import cv2 # OpenCV para manipulación de imágenes como redimensionamiento y superposición\n",
    "\n",
    "# Importación de SciPy para métricas avanzadas (Distancia de Hausdorff)\n",
    "from scipy.spatial.distance import cdist\n",
    "\n",
    "# Importaciones para XAI (Grad-CAM)\n",
    "from pytorch_grad_cam import GradCAM\n",
    "from pytorch_grad_cam.utils.model_targets import SemanticSegmentationTarget\n",
    "from pytorch_grad_cam.utils.image import show_cam_on_image"
   ]
  },
  {
   "cell_type": "code",
   "execution_count": 2,
   "id": "3904e7ac",
   "metadata": {},
   "outputs": [
    {
     "name": "stdout",
     "output_type": "stream",
     "text": [
      "Usando dispositivo: cuda\n"
     ]
    }
   ],
   "source": [
    "# Configuración del dispositivo (GPU si está disponible, de lo contrario CPU)\n",
    "DEVICE = \"cuda\" if torch.cuda.is_available() else \"cpu\"\n",
    "print(f\"Usando dispositivo: {DEVICE}\")"
   ]
  },
  {
   "cell_type": "markdown",
   "id": "e63035be",
   "metadata": {},
   "source": [
    "## DEFINICIÓN DE PARÁMETROS Y RUTAS\n",
    "\n",
    "Parámetros globales para el entrenamiento y el procesamiento de datos."
   ]
  },
  {
   "cell_type": "code",
   "execution_count": 3,
   "id": "0f7501f0",
   "metadata": {},
   "outputs": [],
   "source": [
    "# Ruta al directorio principal que contiene los datos de BraTS 2021\n",
    "DATA_DIR = 'F:/Proyectos/brain_segmentation/data/BraTS2021_Training_Data/'\n",
    "\n",
    "# Parámetros del modelo y entrenamiento\n",
    "IMG_SIZE = 240 # Tamaño al que se redimensionarán las imágenes\n",
    "BATCH_SIZE = 8\n",
    "EPOCHS = 50\n",
    "LEARNING_RATE = 1e-4\n",
    "ENCODER = 'resnet50'\n",
    "PRETRAINED_WEIGHTS = 'imagenet'"
   ]
  },
  {
   "cell_type": "markdown",
   "id": "dcdb58d2",
   "metadata": {},
   "source": [
    "## CARGA DE DATOS Y PRE-PROCESAMIENTO\n",
    "\n",
    "Funciones para encontrar, cargar y pre-procesar los datos de BraTS."
   ]
  },
  {
   "cell_type": "code",
   "execution_count": 4,
   "id": "0905ecb1",
   "metadata": {},
   "outputs": [],
   "source": [
    "def get_patient_paths(data_dir):\n",
    "    \"\"\"\n",
    "    Obtiene las rutas a las carpetas de cada paciente.\n",
    "    \"\"\"\n",
    "    patient_folders = glob.glob(os.path.join(data_dir, 'BraTS2021_*'))\n",
    "    return patient_folders\n",
    "\n",
    "def preprocess_mask(mask):\n",
    "    \"\"\"\n",
    "    Pre-procesa la máscara de segmentación de BraTS.ssss\n",
    "    Las etiquetas originales son 1 (NCR), 2 (ED), 4 (ET).\n",
    "    Se mapean a 1 (NCR), 2 (ED), 3 (ET) para facilitar el manejo en PyTorch.\n",
    "    La clase 0 es el fondo.\n",
    "    \"\"\"\n",
    "    mask_processed = np.zeros_like(mask)\n",
    "    mask_processed[mask == 1] = 1  # NCR\n",
    "    mask_processed[mask == 2] = 2  # ED\n",
    "    mask_processed[mask == 4] = 3  # ET\n",
    "    return mask_processed\n",
    "\n",
    "def load_and_preprocess_sample(patient_path):\n",
    "    \"\"\"\n",
    "    Carga las 4 modalidades de MRI y la máscara para un paciente,\n",
    "    y las pre-procesa.\n",
    "    Retorna una lista de pares (imagen_apilada, mascara_procesada) para los cortes con tumor.\n",
    "    \"\"\"\n",
    "    processed_samples = []\n",
    "    try:\n",
    "        # Cargar las 4 modalidades y la máscara\n",
    "        # glob.glob devuelve una lista, tomamos el primer elemento \n",
    "        flair_path = glob.glob(os.path.join(patient_path, '*_flair.nii.gz'))\n",
    "        t1_path = glob.glob(os.path.join(patient_path, '*_t1.nii.gz'))\n",
    "        t1ce_path = glob.glob(os.path.join(patient_path, '*_t1ce.nii.gz'))\n",
    "        t2_path = glob.glob(os.path.join(patient_path, '*_t2.nii.gz'))\n",
    "        seg_path = glob.glob(os.path.join(patient_path, '*_seg.nii.gz'))\n",
    "\n",
    "        flair_img = nib.load(flair_path[0]).get_fdata()\n",
    "        t1_img = nib.load(t1_path[0]).get_fdata()\n",
    "        t1ce_img = nib.load(t1ce_path[0]).get_fdata()\n",
    "        t2_img = nib.load(t2_path[0]).get_fdata()\n",
    "        seg_mask = nib.load(seg_path[0]).get_fdata()\n",
    "\n",
    "        # Iterar a través de los cortes axiales (última dimensión)\n",
    "        for i in range(flair_img.shape[2]):\n",
    "            mask_slice = seg_mask[:, :, i]\n",
    "            \n",
    "            # Solo procesar cortes que contienen tumor para enfocar el entrenamiento\n",
    "            if np.sum(mask_slice) > 0:\n",
    "                # Normalización Z-score para cada modalidad\n",
    "                flair_slice = (flair_img[:, :, i] - np.mean(flair_img[:, :, i])) / (np.std(flair_img[:, :, i]) + 1e-8)\n",
    "                t1_slice = (t1_img[:, :, i] - np.mean(t1_img[:, :, i])) / (np.std(t1_img[:, :, i]) + 1e-8)\n",
    "                t1ce_slice = (t1ce_img[:, :, i] - np.mean(t1ce_img[:, :, i])) / (np.std(t1ce_img[:, :, i]) + 1e-8)\n",
    "                t2_slice = (t2_img[:, :, i] - np.mean(t2_img[:, :, i])) / (np.std(t2_img[:, :, i]) + 1e-8)\n",
    "\n",
    "                # Apilar las 4 modalidades para crear una imagen de 4 canales\n",
    "                # La forma final debe ser (canales, altura, anchura) para PyTorch\n",
    "                stacked_img = np.stack([flair_slice, t1_slice, t1ce_slice, t2_slice], axis=0)\n",
    "                \n",
    "                # Pre-procesar la máscara\n",
    "                processed_mask = preprocess_mask(mask_slice)\n",
    "\n",
    "                processed_samples.append((stacked_img, processed_mask))\n",
    "        \n",
    "        return processed_samples\n",
    "\n",
    "    except Exception as e:\n",
    "        print(f\"Error procesando paciente {patient_path}: {e}\")\n",
    "        return processed_samples # Devolver lista vacía si hay error"
   ]
  },
  {
   "cell_type": "markdown",
   "id": "3dcd14d5",
   "metadata": {},
   "source": [
    "## GENERADOR DE DATOS DE PYTORCH"
   ]
  },
  {
   "cell_type": "code",
   "execution_count": 5,
   "id": "918c10eb",
   "metadata": {},
   "outputs": [],
   "source": [
    "class BraTSDataset(Dataset):\n",
    "    def __init__(self, data):\n",
    "        self.data = data\n",
    "\n",
    "    def __len__(self):\n",
    "        return len(self.data)\n",
    "\n",
    "    def __getitem__(self, idx):\n",
    "        # Obtener la imagen apilada y la máscara\n",
    "        image, mask = self.data[idx]\n",
    "        \n",
    "        # Convertir a tensores de PyTorch\n",
    "        # Asegurarse de que los tipos de datos son correctos\n",
    "        image = torch.from_numpy(image).float()\n",
    "        mask = torch.from_numpy(mask).long()\n",
    "        \n",
    "        return image, mask"
   ]
  },
  {
   "cell_type": "markdown",
   "id": "d3513552",
   "metadata": {},
   "source": [
    "### Métrica: Distancia de Hausdorff 95%"
   ]
  },
  {
   "cell_type": "code",
   "execution_count": 6,
   "id": "a6b3e910",
   "metadata": {},
   "outputs": [],
   "source": [
    "def calculate_hd95(pred_mask, gt_mask):\n",
    "    \"\"\"\n",
    "    Calcula la Distancia de Hausdorff del 95º percentil entre dos máscaras binarias.\n",
    "    Utiliza SciPy y NumPy.\n",
    "    \"\"\"\n",
    "    pred_points = np.argwhere(pred_mask)\n",
    "    gt_points = np.argwhere(gt_mask)\n",
    "\n",
    "    # Si una máscara está vacía y la otra no, la distancia es grande.\n",
    "    # Si ambas están vacías, la distancia es 0.\n",
    "    if len(pred_points) == 0 and len(gt_points) == 0:\n",
    "        return 0.0\n",
    "    if len(pred_points) == 0 or len(gt_points) == 0:\n",
    "        # Retorna una penalización grande, como la diagonal de la imagen\n",
    "        return np.sqrt(pred_mask.shape[0]**2 + pred_mask.shape[1]**2)\n",
    "\n",
    "    # Calcular las distancias de cada punto en un conjunto al punto más cercano en el otro\n",
    "    distances_pred_to_gt = cdist(pred_points, gt_points).min(axis=1)\n",
    "    distances_gt_to_pred = cdist(gt_points, pred_points).min(axis=1)\n",
    "\n",
    "    # Obtener el 95º percentil de estas distancias\n",
    "    hd95_pred_to_gt = np.percentile(distances_pred_to_gt, 95)\n",
    "    hd95_gt_to_pred = np.percentile(distances_gt_to_pred, 95)\n",
    "\n",
    "    # La HD95 es el máximo de las dos distancias dirigidas\n",
    "    return max(hd95_pred_to_gt, hd95_gt_to_pred)"
   ]
  },
  {
   "cell_type": "markdown",
   "id": "1a3a606a",
   "metadata": {},
   "source": [
    "## DEFINICIÓN DE ARQUITECTURAS DE MODELOS"
   ]
  },
  {
   "cell_type": "code",
   "execution_count": 7,
   "id": "eab3fc4d",
   "metadata": {},
   "outputs": [],
   "source": [
    "# Implementación de Attention U-Net\n",
    "class AttentionGate(nn.Module):\n",
    "    def __init__(self, F_g, F_l, F_int):\n",
    "        super(AttentionGate, self).__init__()\n",
    "        self.W_g = nn.Sequential(nn.Conv2d(F_g, F_int, 1), nn.BatchNorm2d(F_int))\n",
    "        self.W_x = nn.Sequential(nn.Conv2d(F_l, F_int, 1), nn.BatchNorm2d(F_int))\n",
    "        self.psi = nn.Sequential(nn.Conv2d(F_int, 1, 1), nn.BatchNorm2d(1), nn.Sigmoid())\n",
    "        self.relu = nn.ReLU(inplace=True)\n",
    "    def forward(self, g, x):\n",
    "        g1, x1 = self.W_g(g), self.W_x(x)\n",
    "        psi = self.relu(g1 + x1)\n",
    "        psi = self.psi(psi)\n",
    "        return x * psi\n",
    "\n",
    "class ConvBlock(nn.Module):\n",
    "    def __init__(self, ch_in, ch_out):\n",
    "        super(ConvBlock, self).__init__()\n",
    "        self.conv = nn.Sequential(\n",
    "            nn.Conv2d(ch_in, ch_out, 3, padding=1), nn.BatchNorm2d(ch_out), nn.ReLU(inplace=True),\n",
    "            nn.Conv2d(ch_out, ch_out, 3, padding=1), nn.BatchNorm2d(ch_out), nn.ReLU(inplace=True)\n",
    "        )\n",
    "    def forward(self, x): return self.conv(x)\n",
    "\n",
    "class AttentionUNet(nn.Module):\n",
    "    def __init__(self, in_channels=4, out_channels=4):\n",
    "        super(AttentionUNet, self).__init__()\n",
    "        self.pool = nn.MaxPool2d(2, 2)\n",
    "        self.conv1 = ConvBlock(in_channels, 64)\n",
    "        self.conv2 = ConvBlock(64, 128)\n",
    "        self.conv3 = ConvBlock(128, 256)\n",
    "        self.conv4 = ConvBlock(256, 512)\n",
    "        self.conv5 = ConvBlock(512, 1024)\n",
    "        self.up5 = nn.ConvTranspose2d(1024, 512, 2, 2)\n",
    "        self.att5 = AttentionGate(512, 512, 256)\n",
    "        self.up_conv5 = ConvBlock(1024, 512)\n",
    "        self.up4 = nn.ConvTranspose2d(512, 256, 2, 2)\n",
    "        self.att4 = AttentionGate(256, 256, 128)\n",
    "        self.up_conv4 = ConvBlock(512, 256)\n",
    "        self.up3 = nn.ConvTranspose2d(256, 128, 2, 2)\n",
    "        self.att3 = AttentionGate(128, 128, 64)\n",
    "        self.up_conv3 = ConvBlock(256, 128)\n",
    "        self.up2 = nn.ConvTranspose2d(128, 64, 2, 2)\n",
    "        self.att2 = AttentionGate(64, 64, 32)\n",
    "        self.up_conv2 = ConvBlock(128, 64)\n",
    "        self.conv_out = nn.Conv2d(64, out_channels, 1)\n",
    "\n",
    "    def forward(self, x):\n",
    "        x1 = self.conv1(x)\n",
    "        x2 = self.pool(x1); x2 = self.conv2(x2)\n",
    "        x3 = self.pool(x2); x3 = self.conv3(x3)\n",
    "        x4 = self.pool(x3); x4 = self.conv4(x4)\n",
    "        x5 = self.pool(x4); x5 = self.conv5(x5)\n",
    "        d5 = self.up5(x5)\n",
    "        x4 = self.att5(d5, x4)\n",
    "        d5 = self.up_conv5(torch.cat((x4, d5), 1))\n",
    "        d4 = self.up4(d5)\n",
    "        x3 = self.att4(d4, x3)\n",
    "        d4 = self.up_conv4(torch.cat((x3, d4), 1))\n",
    "        d3 = self.up3(d4)\n",
    "        x2 = self.att3(d3, x2)\n",
    "        d3 = self.up_conv3(torch.cat((x2, d3), 1))\n",
    "        d2 = self.up2(d3)\n",
    "        x1 = self.att2(d2, x1)\n",
    "        d2 = self.up_conv2(torch.cat((x1, d2), 1))\n",
    "        return self.conv_out(d2)"
   ]
  },
  {
   "cell_type": "markdown",
   "id": "9854f9db",
   "metadata": {},
   "source": [
    "## ENTRENAMIENTO Y VALIDACIÓN"
   ]
  },
  {
   "cell_type": "code",
   "execution_count": 8,
   "id": "0cddf588",
   "metadata": {},
   "outputs": [],
   "source": [
    "def train_epoch(model, loader, optimizer, loss_fn, device):\n",
    "    model.train()\n",
    "    running_loss = 0.0\n",
    "    for images, masks in loader:\n",
    "        images, masks = images.to(device), masks.to(device)\n",
    "        optimizer.zero_grad()\n",
    "        outputs = model(images)\n",
    "        loss = loss_fn(outputs, masks)\n",
    "        loss.backward()\n",
    "        optimizer.step()\n",
    "        running_loss += loss.item()\n",
    "    return running_loss / len(loader)\n",
    "\n",
    "def validate_epoch(model, loader, loss_fn, device):\n",
    "    model.eval()\n",
    "    running_loss = 0.0\n",
    "    dice_score, sensitivity, hd95 = 0.0, 0.0, 0.0\n",
    "    \n",
    "    with torch.no_grad():\n",
    "        for images, masks in loader:\n",
    "            images, masks = images.to(device), masks.to(device)\n",
    "            outputs = model(images)\n",
    "            loss = loss_fn(outputs, masks)\n",
    "            running_loss += loss.item()\n",
    "            \n",
    "            pred_masks = torch.softmax(outputs, dim=1).argmax(dim=1)\n",
    "            \n",
    "            # Mover a CPU y convertir a NumPy para métricas\n",
    "            pred_masks_np = pred_masks.cpu().numpy()\n",
    "            masks_np = masks.cpu().numpy()\n",
    "            \n",
    "            # Calcular métricas por lote\n",
    "            batch_dice, batch_sens, batch_hd95 = [], [], []\n",
    "            for i in range(images.size(0)): # Iterar sobre cada imagen en el lote\n",
    "                sample_dice, sample_sens, sample_hd95 = [], [], []\n",
    "                for c in range(1, 4): # Iterar sobre cada clase de tumor (1, 2, 3)\n",
    "                    pred_c = (pred_masks_np[i] == c)\n",
    "                    gt_c = (masks_np[i] == c)\n",
    "                    \n",
    "                    tp = np.sum(pred_c * gt_c)\n",
    "                    fp = np.sum(pred_c * (1 - gt_c))\n",
    "                    fn = np.sum((1 - pred_c) * gt_c)\n",
    "                    \n",
    "                    sample_dice.append((2 * tp) / (2 * tp + fp + fn + 1e-8))\n",
    "                    sample_sens.append(tp / (tp + fn + 1e-8))\n",
    "                    sample_hd95.append(calculate_hd95(pred_c, gt_c))\n",
    "                \n",
    "                batch_dice.append(np.mean(sample_dice))\n",
    "                batch_sens.append(np.mean(sample_sens))\n",
    "                batch_hd95.append(np.mean(sample_hd95))\n",
    "            \n",
    "            dice_score += np.mean(batch_dice)\n",
    "            sensitivity += np.mean(batch_sens)\n",
    "            hd95 += np.mean(batch_hd95)\n",
    "\n",
    "    return (running_loss / len(loader), \n",
    "            dice_score / len(loader), \n",
    "            sensitivity / len(loader), \n",
    "            hd95 / len(loader))"
   ]
  },
  {
   "cell_type": "markdown",
   "id": "867504c6",
   "metadata": {},
   "source": [
    "## PIPELINE DE ENTRENAMIENTO COMPARATIVO"
   ]
  },
  {
   "cell_type": "code",
   "execution_count": 9,
   "id": "4ac86f42",
   "metadata": {},
   "outputs": [],
   "source": [
    "def run_training_pipeline(model, model_name, train_loader, val_loader, device):\n",
    "    print(f\"\\n{'='*20} Entrenando Modelo: {model_name} {'='*20}\")\n",
    "    \n",
    "    model.to(device)\n",
    "    optimizer = torch.optim.AdamW(model.parameters(), lr=LEARNING_RATE)\n",
    "    scheduler = torch.optim.lr_scheduler.ReduceLROnPlateau(optimizer, 'min', patience=3)\n",
    "    loss_fn = smp.losses.DiceLoss(mode='multiclass', from_logits=True)\n",
    "    \n",
    "    best_val_dice = 0.0\n",
    "    history = {'train_loss': [], 'val_loss': [], 'val_dice': [], 'val_sensitivity': [], 'val_hd95': []}\n",
    "    \n",
    "    for epoch in range(EPOCHS):\n",
    "        print(f\"--- Epoch {epoch+1}/{EPOCHS} ---\")\n",
    "        train_loss = train_epoch(model, tqdm(train_loader, desc=\"Entrenando\"), optimizer, loss_fn, device)\n",
    "        val_loss, val_dice, val_sens, val_hd = validate_epoch(model, tqdm(val_loader, desc=\"Validando\"), loss_fn, device)\n",
    "        \n",
    "        history['train_loss'].append(train_loss)\n",
    "        history['val_loss'].append(val_loss)\n",
    "        history['val_dice'].append(val_dice)\n",
    "        history['val_sensitivity'].append(val_sens)\n",
    "        history['val_hd95'].append(val_hd)\n",
    "        \n",
    "        print(f\"Pérdida Val: {val_loss:.4f} | Dice Val: {val_dice:.4f} | Sensibilidad Val: {val_sens:.4f} | HD95 Val: {val_hd:.2f}\")\n",
    "        \n",
    "        if val_dice > best_val_dice:\n",
    "            best_val_dice = val_dice\n",
    "            torch.save(model.state_dict(), f'best_model_{model_name.replace(\" \", \"_\").replace(\"+\", \"plus\").lower()}.pth')\n",
    "            print(f\"Mejor modelo guardado.\")\n",
    "            \n",
    "        scheduler.step(val_loss)\n",
    "        \n",
    "    return history, best_val_dice"
   ]
  },
  {
   "cell_type": "markdown",
   "id": "03d063f4",
   "metadata": {},
   "source": [
    "## EJECUCIÓN PRINCIPAL"
   ]
  },
  {
   "cell_type": "code",
   "execution_count": 10,
   "id": "6334a67c",
   "metadata": {},
   "outputs": [],
   "source": [
    "# Cargar todas las rutas de pacientes\n",
    "all_patient_paths = get_patient_paths(DATA_DIR)\n",
    "\n",
    "# En un entrenamiento real, se usarían todos los datos.\n",
    "all_patient_paths = all_patient_paths[:200] "
   ]
  },
  {
   "cell_type": "code",
   "execution_count": 11,
   "id": "94fd52e9",
   "metadata": {},
   "outputs": [
    {
     "name": "stdout",
     "output_type": "stream",
     "text": [
      "Pre-procesando datos...\n"
     ]
    },
    {
     "name": "stderr",
     "output_type": "stream",
     "text": [
      "Procesando Pacientes: 100%|██████████| 200/200 [01:44<00:00,  1.91it/s]"
     ]
    },
    {
     "name": "stdout",
     "output_type": "stream",
     "text": [
      "Total de cortes con tumor encontrados: 12905\n"
     ]
    },
    {
     "name": "stderr",
     "output_type": "stream",
     "text": [
      "\n"
     ]
    }
   ],
   "source": [
    "# Pre-procesar todos los datos (esto puede tardar)\n",
    "print(\"Pre-procesando datos...\")\n",
    "all_samples = []\n",
    "for path in tqdm(all_patient_paths, desc=\"Procesando Pacientes\"):\n",
    "    all_samples.extend(load_and_preprocess_sample(path))\n",
    "\n",
    "print(f\"Total de cortes con tumor encontrados: {len(all_samples)}\")"
   ]
  },
  {
   "cell_type": "code",
   "execution_count": 12,
   "id": "a8c563f1",
   "metadata": {},
   "outputs": [],
   "source": [
    "# Dividir los datos en entrenamiento y validación\n",
    "train_data, val_data = train_test_split(all_samples, test_size=0.2, random_state=42)\n",
    "\n",
    "train_dataset = BraTSDataset(train_data)\n",
    "val_dataset = BraTSDataset(val_data)\n",
    "\n",
    "train_loader = DataLoader(train_dataset, batch_size=BATCH_SIZE, shuffle=True)\n",
    "val_loader = DataLoader(val_dataset, batch_size=BATCH_SIZE, shuffle=False)"
   ]
  },
  {
   "cell_type": "code",
   "execution_count": 13,
   "id": "e4ae3d58",
   "metadata": {},
   "outputs": [],
   "source": [
    "# Modelos a comparar\n",
    "models_to_train = {\n",
    "        \"U-Net (ResNet50)\": smp.Unet(\n",
    "            encoder_name=ENCODER, \n",
    "            encoder_weights='imagenet', \n",
    "            in_channels=4, \n",
    "            classes=4),\n",
    "        \"Attention U-Net\": AttentionUNet(\n",
    "            in_channels=4, \n",
    "            out_channels=4),\n",
    "        \"DeepLabv3+\": smp.DeepLabV3Plus(\n",
    "            encoder_name=ENCODER, \n",
    "            encoder_weights=PRETRAINED_WEIGHTS, \n",
    "            in_channels=4, \n",
    "            classes=4),\n",
    "        \"PSPNet\": smp.PSPNet(\n",
    "            encoder_name=ENCODER, \n",
    "            encoder_weights=PRETRAINED_WEIGHTS, \n",
    "            in_channels=4, \n",
    "            classes=4),\n",
    "        \"SegFormer\": smp.Unet(\n",
    "            encoder_name='mit_b2', \n",
    "            encoder_weights=PRETRAINED_WEIGHTS, \n",
    "            in_channels=4, \n",
    "            classes=4) # Usando U-Net con encoder de SegFormer\n",
    "    }"
   ]
  },
  {
   "cell_type": "code",
   "execution_count": 14,
   "id": "16972249",
   "metadata": {},
   "outputs": [
    {
     "name": "stdout",
     "output_type": "stream",
     "text": [
      "\n",
      "==================== Entrenando Modelo: DeepLabv3+ ====================\n",
      "--- Epoch 1/50 ---\n"
     ]
    },
    {
     "name": "stderr",
     "output_type": "stream",
     "text": [
      "Entrenando: 100%|██████████| 1291/1291 [00:59<00:00, 21.76it/s]\n",
      "Validando: 100%|██████████| 323/323 [00:58<00:00,  5.48it/s]\n"
     ]
    },
    {
     "name": "stdout",
     "output_type": "stream",
     "text": [
      "Pérdida Val: 0.1538 | Dice Val: 0.4863 | Sensibilidad Val: 0.4773 | HD95 Val: 28.39\n",
      "Mejor modelo guardado.\n",
      "--- Epoch 2/50 ---\n"
     ]
    },
    {
     "name": "stderr",
     "output_type": "stream",
     "text": [
      "Entrenando: 100%|██████████| 1291/1291 [01:28<00:00, 14.65it/s]\n",
      "Validando: 100%|██████████| 323/323 [00:54<00:00,  5.94it/s]\n"
     ]
    },
    {
     "name": "stdout",
     "output_type": "stream",
     "text": [
      "Pérdida Val: 0.1446 | Dice Val: 0.5053 | Sensibilidad Val: 0.5120 | HD95 Val: 27.76\n",
      "Mejor modelo guardado.\n",
      "--- Epoch 3/50 ---\n"
     ]
    },
    {
     "name": "stderr",
     "output_type": "stream",
     "text": [
      "Entrenando: 100%|██████████| 1291/1291 [00:55<00:00, 23.12it/s]\n",
      "Validando: 100%|██████████| 323/323 [00:52<00:00,  6.18it/s]\n"
     ]
    },
    {
     "name": "stdout",
     "output_type": "stream",
     "text": [
      "Pérdida Val: 0.1250 | Dice Val: 0.5157 | Sensibilidad Val: 0.5034 | HD95 Val: 27.16\n",
      "Mejor modelo guardado.\n",
      "--- Epoch 4/50 ---\n"
     ]
    },
    {
     "name": "stderr",
     "output_type": "stream",
     "text": [
      "Entrenando: 100%|██████████| 1291/1291 [00:55<00:00, 23.25it/s]\n",
      "Validando: 100%|██████████| 323/323 [00:55<00:00,  5.80it/s]\n"
     ]
    },
    {
     "name": "stdout",
     "output_type": "stream",
     "text": [
      "Pérdida Val: 0.1117 | Dice Val: 0.5373 | Sensibilidad Val: 0.5416 | HD95 Val: 22.11\n",
      "Mejor modelo guardado.\n",
      "--- Epoch 5/50 ---\n"
     ]
    },
    {
     "name": "stderr",
     "output_type": "stream",
     "text": [
      "Entrenando: 100%|██████████| 1291/1291 [00:57<00:00, 22.55it/s]\n",
      "Validando: 100%|██████████| 323/323 [00:55<00:00,  5.84it/s]\n"
     ]
    },
    {
     "name": "stdout",
     "output_type": "stream",
     "text": [
      "Pérdida Val: 0.1122 | Dice Val: 0.5320 | Sensibilidad Val: 0.5254 | HD95 Val: 23.48\n",
      "--- Epoch 6/50 ---\n"
     ]
    },
    {
     "name": "stderr",
     "output_type": "stream",
     "text": [
      "Entrenando: 100%|██████████| 1291/1291 [00:55<00:00, 23.23it/s]\n",
      "Validando: 100%|██████████| 323/323 [00:55<00:00,  5.86it/s]\n"
     ]
    },
    {
     "name": "stdout",
     "output_type": "stream",
     "text": [
      "Pérdida Val: 0.1070 | Dice Val: 0.5370 | Sensibilidad Val: 0.5293 | HD95 Val: 23.74\n",
      "--- Epoch 7/50 ---\n"
     ]
    },
    {
     "name": "stderr",
     "output_type": "stream",
     "text": [
      "Entrenando: 100%|██████████| 1291/1291 [01:13<00:00, 17.58it/s]\n",
      "Validando: 100%|██████████| 323/323 [01:21<00:00,  3.95it/s]\n"
     ]
    },
    {
     "name": "stdout",
     "output_type": "stream",
     "text": [
      "Pérdida Val: 0.1025 | Dice Val: 0.5454 | Sensibilidad Val: 0.5371 | HD95 Val: 20.91\n",
      "Mejor modelo guardado.\n",
      "--- Epoch 8/50 ---\n"
     ]
    },
    {
     "name": "stderr",
     "output_type": "stream",
     "text": [
      "Entrenando: 100%|██████████| 1291/1291 [00:58<00:00, 22.25it/s]\n",
      "Validando: 100%|██████████| 323/323 [00:52<00:00,  6.13it/s]\n"
     ]
    },
    {
     "name": "stdout",
     "output_type": "stream",
     "text": [
      "Pérdida Val: 0.1021 | Dice Val: 0.5501 | Sensibilidad Val: 0.5388 | HD95 Val: 19.97\n",
      "Mejor modelo guardado.\n",
      "--- Epoch 9/50 ---\n"
     ]
    },
    {
     "name": "stderr",
     "output_type": "stream",
     "text": [
      "Entrenando: 100%|██████████| 1291/1291 [00:53<00:00, 24.35it/s]\n",
      "Validando: 100%|██████████| 323/323 [00:55<00:00,  5.82it/s]\n"
     ]
    },
    {
     "name": "stdout",
     "output_type": "stream",
     "text": [
      "Pérdida Val: 0.0963 | Dice Val: 0.5567 | Sensibilidad Val: 0.5515 | HD95 Val: 20.06\n",
      "Mejor modelo guardado.\n",
      "--- Epoch 10/50 ---\n"
     ]
    },
    {
     "name": "stderr",
     "output_type": "stream",
     "text": [
      "Entrenando: 100%|██████████| 1291/1291 [00:55<00:00, 23.33it/s]\n",
      "Validando: 100%|██████████| 323/323 [01:04<00:00,  4.97it/s]\n"
     ]
    },
    {
     "name": "stdout",
     "output_type": "stream",
     "text": [
      "Pérdida Val: 0.0979 | Dice Val: 0.5536 | Sensibilidad Val: 0.5404 | HD95 Val: 20.27\n",
      "--- Epoch 11/50 ---\n"
     ]
    },
    {
     "name": "stderr",
     "output_type": "stream",
     "text": [
      "Entrenando: 100%|██████████| 1291/1291 [01:21<00:00, 15.77it/s]\n",
      "Validando: 100%|██████████| 323/323 [00:56<00:00,  5.76it/s]\n"
     ]
    },
    {
     "name": "stdout",
     "output_type": "stream",
     "text": [
      "Pérdida Val: 0.0967 | Dice Val: 0.5568 | Sensibilidad Val: 0.5429 | HD95 Val: 19.29\n",
      "Mejor modelo guardado.\n",
      "--- Epoch 12/50 ---\n"
     ]
    },
    {
     "name": "stderr",
     "output_type": "stream",
     "text": [
      "Entrenando: 100%|██████████| 1291/1291 [00:59<00:00, 21.73it/s]\n",
      "Validando: 100%|██████████| 323/323 [00:58<00:00,  5.52it/s]\n"
     ]
    },
    {
     "name": "stdout",
     "output_type": "stream",
     "text": [
      "Pérdida Val: 0.0933 | Dice Val: 0.5640 | Sensibilidad Val: 0.5663 | HD95 Val: 18.22\n",
      "Mejor modelo guardado.\n",
      "--- Epoch 13/50 ---\n"
     ]
    },
    {
     "name": "stderr",
     "output_type": "stream",
     "text": [
      "Entrenando: 100%|██████████| 1291/1291 [00:55<00:00, 23.36it/s]\n",
      "Validando: 100%|██████████| 323/323 [01:13<00:00,  4.39it/s]\n"
     ]
    },
    {
     "name": "stdout",
     "output_type": "stream",
     "text": [
      "Pérdida Val: 0.0898 | Dice Val: 0.5665 | Sensibilidad Val: 0.5601 | HD95 Val: 18.25\n",
      "Mejor modelo guardado.\n",
      "--- Epoch 14/50 ---\n"
     ]
    },
    {
     "name": "stderr",
     "output_type": "stream",
     "text": [
      "Entrenando: 100%|██████████| 1291/1291 [00:55<00:00, 23.40it/s]\n",
      "Validando: 100%|██████████| 323/323 [01:04<00:00,  5.03it/s]\n"
     ]
    },
    {
     "name": "stdout",
     "output_type": "stream",
     "text": [
      "Pérdida Val: 0.0897 | Dice Val: 0.5708 | Sensibilidad Val: 0.5717 | HD95 Val: 16.97\n",
      "Mejor modelo guardado.\n",
      "--- Epoch 15/50 ---\n"
     ]
    },
    {
     "name": "stderr",
     "output_type": "stream",
     "text": [
      "Entrenando: 100%|██████████| 1291/1291 [00:51<00:00, 24.83it/s]\n",
      "Validando: 100%|██████████| 323/323 [01:08<00:00,  4.68it/s]\n"
     ]
    },
    {
     "name": "stdout",
     "output_type": "stream",
     "text": [
      "Pérdida Val: 0.0917 | Dice Val: 0.5633 | Sensibilidad Val: 0.5554 | HD95 Val: 18.48\n",
      "--- Epoch 16/50 ---\n"
     ]
    },
    {
     "name": "stderr",
     "output_type": "stream",
     "text": [
      "Entrenando: 100%|██████████| 1291/1291 [00:55<00:00, 23.42it/s]\n",
      "Validando: 100%|██████████| 323/323 [00:58<00:00,  5.53it/s]\n"
     ]
    },
    {
     "name": "stdout",
     "output_type": "stream",
     "text": [
      "Pérdida Val: 0.0878 | Dice Val: 0.5727 | Sensibilidad Val: 0.5756 | HD95 Val: 16.92\n",
      "Mejor modelo guardado.\n",
      "--- Epoch 17/50 ---\n"
     ]
    },
    {
     "name": "stderr",
     "output_type": "stream",
     "text": [
      "Entrenando: 100%|██████████| 1291/1291 [01:33<00:00, 13.87it/s]\n",
      "Validando: 100%|██████████| 323/323 [00:57<00:00,  5.64it/s]\n"
     ]
    },
    {
     "name": "stdout",
     "output_type": "stream",
     "text": [
      "Pérdida Val: 0.0867 | Dice Val: 0.5716 | Sensibilidad Val: 0.5610 | HD95 Val: 16.87\n",
      "--- Epoch 18/50 ---\n"
     ]
    },
    {
     "name": "stderr",
     "output_type": "stream",
     "text": [
      "Entrenando: 100%|██████████| 1291/1291 [01:12<00:00, 17.91it/s]\n",
      "Validando: 100%|██████████| 323/323 [01:19<00:00,  4.06it/s]\n"
     ]
    },
    {
     "name": "stdout",
     "output_type": "stream",
     "text": [
      "Pérdida Val: 0.0867 | Dice Val: 0.5712 | Sensibilidad Val: 0.5629 | HD95 Val: 16.82\n",
      "--- Epoch 19/50 ---\n"
     ]
    },
    {
     "name": "stderr",
     "output_type": "stream",
     "text": [
      "Entrenando: 100%|██████████| 1291/1291 [01:15<00:00, 17.02it/s]\n",
      "Validando: 100%|██████████| 323/323 [01:00<00:00,  5.33it/s]\n"
     ]
    },
    {
     "name": "stdout",
     "output_type": "stream",
     "text": [
      "Pérdida Val: 0.0842 | Dice Val: 0.5776 | Sensibilidad Val: 0.5825 | HD95 Val: 16.97\n",
      "Mejor modelo guardado.\n",
      "--- Epoch 20/50 ---\n"
     ]
    },
    {
     "name": "stderr",
     "output_type": "stream",
     "text": [
      "Entrenando: 100%|██████████| 1291/1291 [00:56<00:00, 22.95it/s]\n",
      "Validando: 100%|██████████| 323/323 [01:35<00:00,  3.38it/s]\n"
     ]
    },
    {
     "name": "stdout",
     "output_type": "stream",
     "text": [
      "Pérdida Val: 0.0897 | Dice Val: 0.5670 | Sensibilidad Val: 0.5683 | HD95 Val: 22.99\n",
      "--- Epoch 21/50 ---\n"
     ]
    },
    {
     "name": "stderr",
     "output_type": "stream",
     "text": [
      "Entrenando: 100%|██████████| 1291/1291 [01:42<00:00, 12.61it/s]\n",
      "Validando: 100%|██████████| 323/323 [01:26<00:00,  3.74it/s]\n"
     ]
    },
    {
     "name": "stdout",
     "output_type": "stream",
     "text": [
      "Pérdida Val: 0.0847 | Dice Val: 0.5723 | Sensibilidad Val: 0.5642 | HD95 Val: 17.50\n",
      "--- Epoch 22/50 ---\n"
     ]
    },
    {
     "name": "stderr",
     "output_type": "stream",
     "text": [
      "Entrenando: 100%|██████████| 1291/1291 [01:37<00:00, 13.20it/s]\n",
      "Validando: 100%|██████████| 323/323 [01:28<00:00,  3.64it/s]\n"
     ]
    },
    {
     "name": "stdout",
     "output_type": "stream",
     "text": [
      "Pérdida Val: 0.0816 | Dice Val: 0.5815 | Sensibilidad Val: 0.5826 | HD95 Val: 15.57\n",
      "Mejor modelo guardado.\n",
      "--- Epoch 23/50 ---\n"
     ]
    },
    {
     "name": "stderr",
     "output_type": "stream",
     "text": [
      "Entrenando: 100%|██████████| 1291/1291 [01:40<00:00, 12.83it/s]\n",
      "Validando: 100%|██████████| 323/323 [01:33<00:00,  3.44it/s]\n"
     ]
    },
    {
     "name": "stdout",
     "output_type": "stream",
     "text": [
      "Pérdida Val: 0.0827 | Dice Val: 0.5764 | Sensibilidad Val: 0.5665 | HD95 Val: 16.68\n",
      "--- Epoch 24/50 ---\n"
     ]
    },
    {
     "name": "stderr",
     "output_type": "stream",
     "text": [
      "Entrenando: 100%|██████████| 1291/1291 [01:20<00:00, 16.04it/s]\n",
      "Validando: 100%|██████████| 323/323 [01:05<00:00,  4.90it/s]\n"
     ]
    },
    {
     "name": "stdout",
     "output_type": "stream",
     "text": [
      "Pérdida Val: 0.0891 | Dice Val: 0.5704 | Sensibilidad Val: 0.5704 | HD95 Val: 16.18\n",
      "--- Epoch 25/50 ---\n"
     ]
    },
    {
     "name": "stderr",
     "output_type": "stream",
     "text": [
      "Entrenando: 100%|██████████| 1291/1291 [01:41<00:00, 12.70it/s]\n",
      "Validando: 100%|██████████| 323/323 [01:26<00:00,  3.75it/s]\n"
     ]
    },
    {
     "name": "stdout",
     "output_type": "stream",
     "text": [
      "Pérdida Val: 0.0820 | Dice Val: 0.5778 | Sensibilidad Val: 0.5704 | HD95 Val: 16.98\n",
      "--- Epoch 26/50 ---\n"
     ]
    },
    {
     "name": "stderr",
     "output_type": "stream",
     "text": [
      "Entrenando: 100%|██████████| 1291/1291 [01:37<00:00, 13.28it/s]\n",
      "Validando: 100%|██████████| 323/323 [01:05<00:00,  4.97it/s]\n"
     ]
    },
    {
     "name": "stdout",
     "output_type": "stream",
     "text": [
      "Pérdida Val: 0.0809 | Dice Val: 0.5811 | Sensibilidad Val: 0.5776 | HD95 Val: 16.49\n",
      "--- Epoch 27/50 ---\n"
     ]
    },
    {
     "name": "stderr",
     "output_type": "stream",
     "text": [
      "Entrenando: 100%|██████████| 1291/1291 [01:26<00:00, 14.91it/s]\n",
      "Validando: 100%|██████████| 323/323 [01:00<00:00,  5.38it/s]\n"
     ]
    },
    {
     "name": "stdout",
     "output_type": "stream",
     "text": [
      "Pérdida Val: 0.0810 | Dice Val: 0.5828 | Sensibilidad Val: 0.5861 | HD95 Val: 15.52\n",
      "Mejor modelo guardado.\n",
      "--- Epoch 28/50 ---\n"
     ]
    },
    {
     "name": "stderr",
     "output_type": "stream",
     "text": [
      "Entrenando: 100%|██████████| 1291/1291 [01:03<00:00, 20.18it/s]\n",
      "Validando: 100%|██████████| 323/323 [01:35<00:00,  3.40it/s]\n"
     ]
    },
    {
     "name": "stdout",
     "output_type": "stream",
     "text": [
      "Pérdida Val: 0.0814 | Dice Val: 0.5800 | Sensibilidad Val: 0.5719 | HD95 Val: 16.28\n",
      "--- Epoch 29/50 ---\n"
     ]
    },
    {
     "name": "stderr",
     "output_type": "stream",
     "text": [
      "Entrenando: 100%|██████████| 1291/1291 [01:56<00:00, 11.05it/s]\n",
      "Validando: 100%|██████████| 323/323 [00:55<00:00,  5.85it/s]\n"
     ]
    },
    {
     "name": "stdout",
     "output_type": "stream",
     "text": [
      "Pérdida Val: 0.0818 | Dice Val: 0.5798 | Sensibilidad Val: 0.5745 | HD95 Val: 15.46\n",
      "--- Epoch 30/50 ---\n"
     ]
    },
    {
     "name": "stderr",
     "output_type": "stream",
     "text": [
      "Entrenando: 100%|██████████| 1291/1291 [01:24<00:00, 15.29it/s]\n",
      "Validando: 100%|██████████| 323/323 [01:01<00:00,  5.21it/s]\n"
     ]
    },
    {
     "name": "stdout",
     "output_type": "stream",
     "text": [
      "Pérdida Val: 0.0804 | Dice Val: 0.5799 | Sensibilidad Val: 0.5739 | HD95 Val: 16.20\n",
      "--- Epoch 31/50 ---\n"
     ]
    },
    {
     "name": "stderr",
     "output_type": "stream",
     "text": [
      "Entrenando: 100%|██████████| 1291/1291 [01:04<00:00, 20.15it/s]\n",
      "Validando: 100%|██████████| 323/323 [00:58<00:00,  5.54it/s]\n"
     ]
    },
    {
     "name": "stdout",
     "output_type": "stream",
     "text": [
      "Pérdida Val: 0.0784 | Dice Val: 0.5837 | Sensibilidad Val: 0.5770 | HD95 Val: 15.55\n",
      "Mejor modelo guardado.\n",
      "--- Epoch 32/50 ---\n"
     ]
    },
    {
     "name": "stderr",
     "output_type": "stream",
     "text": [
      "Entrenando: 100%|██████████| 1291/1291 [01:00<00:00, 21.23it/s]\n",
      "Validando: 100%|██████████| 323/323 [01:10<00:00,  4.57it/s]\n"
     ]
    },
    {
     "name": "stdout",
     "output_type": "stream",
     "text": [
      "Pérdida Val: 0.0805 | Dice Val: 0.5809 | Sensibilidad Val: 0.5728 | HD95 Val: 15.35\n",
      "--- Epoch 33/50 ---\n"
     ]
    },
    {
     "name": "stderr",
     "output_type": "stream",
     "text": [
      "Entrenando: 100%|██████████| 1291/1291 [00:55<00:00, 23.26it/s]\n",
      "Validando: 100%|██████████| 323/323 [00:58<00:00,  5.49it/s]\n"
     ]
    },
    {
     "name": "stdout",
     "output_type": "stream",
     "text": [
      "Pérdida Val: 0.0796 | Dice Val: 0.5821 | Sensibilidad Val: 0.5765 | HD95 Val: 15.82\n",
      "--- Epoch 34/50 ---\n"
     ]
    },
    {
     "name": "stderr",
     "output_type": "stream",
     "text": [
      "Entrenando: 100%|██████████| 1291/1291 [00:57<00:00, 22.61it/s]\n",
      "Validando: 100%|██████████| 323/323 [00:57<00:00,  5.62it/s]\n"
     ]
    },
    {
     "name": "stdout",
     "output_type": "stream",
     "text": [
      "Pérdida Val: 0.0779 | Dice Val: 0.5861 | Sensibilidad Val: 0.5845 | HD95 Val: 14.39\n",
      "Mejor modelo guardado.\n",
      "--- Epoch 35/50 ---\n"
     ]
    },
    {
     "name": "stderr",
     "output_type": "stream",
     "text": [
      "Entrenando: 100%|██████████| 1291/1291 [00:54<00:00, 23.84it/s]\n",
      "Validando: 100%|██████████| 323/323 [01:02<00:00,  5.18it/s]\n"
     ]
    },
    {
     "name": "stdout",
     "output_type": "stream",
     "text": [
      "Pérdida Val: 0.0823 | Dice Val: 0.5786 | Sensibilidad Val: 0.5764 | HD95 Val: 16.35\n",
      "--- Epoch 36/50 ---\n"
     ]
    },
    {
     "name": "stderr",
     "output_type": "stream",
     "text": [
      "Entrenando: 100%|██████████| 1291/1291 [01:10<00:00, 18.37it/s]\n",
      "Validando: 100%|██████████| 323/323 [01:02<00:00,  5.13it/s]\n"
     ]
    },
    {
     "name": "stdout",
     "output_type": "stream",
     "text": [
      "Pérdida Val: 0.0783 | Dice Val: 0.5854 | Sensibilidad Val: 0.5855 | HD95 Val: 15.34\n",
      "--- Epoch 37/50 ---\n"
     ]
    },
    {
     "name": "stderr",
     "output_type": "stream",
     "text": [
      "Entrenando: 100%|██████████| 1291/1291 [00:54<00:00, 23.81it/s]\n",
      "Validando: 100%|██████████| 323/323 [00:52<00:00,  6.14it/s]\n"
     ]
    },
    {
     "name": "stdout",
     "output_type": "stream",
     "text": [
      "Pérdida Val: 0.0786 | Dice Val: 0.5811 | Sensibilidad Val: 0.5740 | HD95 Val: 16.47\n",
      "--- Epoch 38/50 ---\n"
     ]
    },
    {
     "name": "stderr",
     "output_type": "stream",
     "text": [
      "Entrenando: 100%|██████████| 1291/1291 [00:50<00:00, 25.63it/s]\n",
      "Validando: 100%|██████████| 323/323 [01:01<00:00,  5.23it/s]\n"
     ]
    },
    {
     "name": "stdout",
     "output_type": "stream",
     "text": [
      "Pérdida Val: 0.0786 | Dice Val: 0.5841 | Sensibilidad Val: 0.5772 | HD95 Val: 15.04\n",
      "--- Epoch 39/50 ---\n"
     ]
    },
    {
     "name": "stderr",
     "output_type": "stream",
     "text": [
      "Entrenando: 100%|██████████| 1291/1291 [01:18<00:00, 16.36it/s]\n",
      "Validando: 100%|██████████| 323/323 [01:44<00:00,  3.09it/s]\n"
     ]
    },
    {
     "name": "stdout",
     "output_type": "stream",
     "text": [
      "Pérdida Val: 0.0756 | Dice Val: 0.5892 | Sensibilidad Val: 0.5843 | HD95 Val: 14.62\n",
      "Mejor modelo guardado.\n",
      "--- Epoch 40/50 ---\n"
     ]
    },
    {
     "name": "stderr",
     "output_type": "stream",
     "text": [
      "Entrenando: 100%|██████████| 1291/1291 [00:58<00:00, 22.13it/s]\n",
      "Validando: 100%|██████████| 323/323 [01:04<00:00,  4.98it/s]\n"
     ]
    },
    {
     "name": "stdout",
     "output_type": "stream",
     "text": [
      "Pérdida Val: 0.0748 | Dice Val: 0.5900 | Sensibilidad Val: 0.5852 | HD95 Val: 14.66\n",
      "Mejor modelo guardado.\n",
      "--- Epoch 41/50 ---\n"
     ]
    },
    {
     "name": "stderr",
     "output_type": "stream",
     "text": [
      "Entrenando: 100%|██████████| 1291/1291 [01:01<00:00, 21.06it/s]\n",
      "Validando: 100%|██████████| 323/323 [00:58<00:00,  5.50it/s]\n"
     ]
    },
    {
     "name": "stdout",
     "output_type": "stream",
     "text": [
      "Pérdida Val: 0.0745 | Dice Val: 0.5903 | Sensibilidad Val: 0.5850 | HD95 Val: 14.58\n",
      "Mejor modelo guardado.\n",
      "--- Epoch 42/50 ---\n"
     ]
    },
    {
     "name": "stderr",
     "output_type": "stream",
     "text": [
      "Entrenando: 100%|██████████| 1291/1291 [01:04<00:00, 20.08it/s]\n",
      "Validando: 100%|██████████| 323/323 [01:02<00:00,  5.17it/s]\n"
     ]
    },
    {
     "name": "stdout",
     "output_type": "stream",
     "text": [
      "Pérdida Val: 0.0742 | Dice Val: 0.5910 | Sensibilidad Val: 0.5860 | HD95 Val: 14.10\n",
      "Mejor modelo guardado.\n",
      "--- Epoch 43/50 ---\n"
     ]
    },
    {
     "name": "stderr",
     "output_type": "stream",
     "text": [
      "Entrenando: 100%|██████████| 1291/1291 [01:05<00:00, 19.70it/s]\n",
      "Validando: 100%|██████████| 323/323 [01:04<00:00,  5.03it/s]\n"
     ]
    },
    {
     "name": "stdout",
     "output_type": "stream",
     "text": [
      "Pérdida Val: 0.0741 | Dice Val: 0.5914 | Sensibilidad Val: 0.5867 | HD95 Val: 14.01\n",
      "Mejor modelo guardado.\n",
      "--- Epoch 44/50 ---\n"
     ]
    },
    {
     "name": "stderr",
     "output_type": "stream",
     "text": [
      "Entrenando: 100%|██████████| 1291/1291 [00:56<00:00, 22.77it/s]\n",
      "Validando: 100%|██████████| 323/323 [00:56<00:00,  5.69it/s]\n"
     ]
    },
    {
     "name": "stdout",
     "output_type": "stream",
     "text": [
      "Pérdida Val: 0.0739 | Dice Val: 0.5921 | Sensibilidad Val: 0.5869 | HD95 Val: 14.24\n",
      "Mejor modelo guardado.\n",
      "--- Epoch 45/50 ---\n"
     ]
    },
    {
     "name": "stderr",
     "output_type": "stream",
     "text": [
      "Entrenando: 100%|██████████| 1291/1291 [01:26<00:00, 14.96it/s]\n",
      "Validando: 100%|██████████| 323/323 [01:29<00:00,  3.61it/s]\n"
     ]
    },
    {
     "name": "stdout",
     "output_type": "stream",
     "text": [
      "Pérdida Val: 0.0739 | Dice Val: 0.5911 | Sensibilidad Val: 0.5851 | HD95 Val: 14.29\n",
      "--- Epoch 46/50 ---\n"
     ]
    },
    {
     "name": "stderr",
     "output_type": "stream",
     "text": [
      "Entrenando: 100%|██████████| 1291/1291 [01:43<00:00, 12.52it/s]\n",
      "Validando: 100%|██████████| 323/323 [00:57<00:00,  5.66it/s]\n"
     ]
    },
    {
     "name": "stdout",
     "output_type": "stream",
     "text": [
      "Pérdida Val: 0.0737 | Dice Val: 0.5924 | Sensibilidad Val: 0.5883 | HD95 Val: 13.67\n",
      "Mejor modelo guardado.\n",
      "--- Epoch 47/50 ---\n"
     ]
    },
    {
     "name": "stderr",
     "output_type": "stream",
     "text": [
      "Entrenando: 100%|██████████| 1291/1291 [01:15<00:00, 17.05it/s]\n",
      "Validando: 100%|██████████| 323/323 [00:57<00:00,  5.59it/s]\n"
     ]
    },
    {
     "name": "stdout",
     "output_type": "stream",
     "text": [
      "Pérdida Val: 0.0735 | Dice Val: 0.5923 | Sensibilidad Val: 0.5877 | HD95 Val: 14.25\n",
      "--- Epoch 48/50 ---\n"
     ]
    },
    {
     "name": "stderr",
     "output_type": "stream",
     "text": [
      "Entrenando: 100%|██████████| 1291/1291 [01:20<00:00, 16.12it/s]\n",
      "Validando: 100%|██████████| 323/323 [01:22<00:00,  3.92it/s]\n"
     ]
    },
    {
     "name": "stdout",
     "output_type": "stream",
     "text": [
      "Pérdida Val: 0.0735 | Dice Val: 0.5923 | Sensibilidad Val: 0.5874 | HD95 Val: 14.02\n",
      "--- Epoch 49/50 ---\n"
     ]
    },
    {
     "name": "stderr",
     "output_type": "stream",
     "text": [
      "Entrenando: 100%|██████████| 1291/1291 [01:42<00:00, 12.59it/s]\n",
      "Validando: 100%|██████████| 323/323 [01:33<00:00,  3.47it/s]\n"
     ]
    },
    {
     "name": "stdout",
     "output_type": "stream",
     "text": [
      "Pérdida Val: 0.0733 | Dice Val: 0.5932 | Sensibilidad Val: 0.5892 | HD95 Val: 13.84\n",
      "Mejor modelo guardado.\n",
      "--- Epoch 50/50 ---\n"
     ]
    },
    {
     "name": "stderr",
     "output_type": "stream",
     "text": [
      "Entrenando: 100%|██████████| 1291/1291 [01:50<00:00, 11.65it/s]\n",
      "Validando: 100%|██████████| 323/323 [01:32<00:00,  3.51it/s]\n"
     ]
    },
    {
     "name": "stdout",
     "output_type": "stream",
     "text": [
      "Pérdida Val: 0.0733 | Dice Val: 0.5928 | Sensibilidad Val: 0.5884 | HD95 Val: 14.20\n"
     ]
    }
   ],
   "source": [
    "# Corriendo el entrenamiento\n",
    "results_history = {}\n",
    "best_scores = {}\n",
    "\n",
    "name = \"DeepLabv3+\"\n",
    "model_instance = models_to_train[name]\n",
    "\n",
    "history, best_dice = run_training_pipeline(model_instance, name, train_loader, val_loader, DEVICE)\n",
    "results_history[name] = history\n",
    "best_scores[name] = best_dice"
   ]
  },
  {
   "cell_type": "code",
   "execution_count": 16,
   "id": "59c37102",
   "metadata": {},
   "outputs": [],
   "source": [
    "import pickle\n",
    "\n",
    "def save_dict_pickle(d, filename):\n",
    "    \"\"\"Serializa y guarda el diccionario d usando pickle.\"\"\"\n",
    "    with open(filename, 'wb') as f:\n",
    "        pickle.dump(d, f)\n",
    "\n",
    "def load_dict_pickle(filename):\n",
    "    \"\"\"Carga un diccionario serializado con pickle.\"\"\"\n",
    "    with open(filename, 'rb') as f:\n",
    "        return pickle.load(f)\n",
    "\n",
    "\n",
    "model_args = {}\n",
    "\n",
    "model_args['name'] = name\n",
    "model_args['results_history'] = history\n",
    "model_args['best_scores'] = best_dice\n",
    "\n",
    "\n",
    "save_dict_pickle(model_args, f'results_history _{name}.pkl')"
   ]
  },
  {
   "cell_type": "code",
   "execution_count": 17,
   "id": "50967f34",
   "metadata": {},
   "outputs": [
    {
     "data": {
      "image/png": "[encoded data removed]",
      "text/plain": [
       "<Figure size 2400x600 with 3 Axes>"
      ]
     },
     "metadata": {},
     "output_type": "display_data"
    }
   ],
   "source": [
    "# Visualizar resultados comparativos\n",
    "fig, axes = plt.subplots(1, 3, figsize=(24, 6))\n",
    "metrics_to_plot = ['val_dice', 'val_sensitivity', 'val_hd95']\n",
    "titles = ['Dice Score de Validación', 'Sensibilidad de Validación', 'Distancia de Hausdorff 95%']\n",
    "for i, metric in enumerate(metrics_to_plot):\n",
    "    for name, history in results_history.items():\n",
    "        axes[i].plot(history[metric], label=name)\n",
    "    axes[i].set_title(titles[i])\n",
    "    axes[i].set_xlabel('Épocas')\n",
    "    axes[i].set_ylabel(metric.replace(\"val_\", \"\").capitalize())\n",
    "    axes[i].legend()\n",
    "    axes[i].grid(True)\n",
    "plt.tight_layout()\n",
    "plt.show()"
   ]
  },
  {
   "cell_type": "code",
   "execution_count": 18,
   "id": "cd134035",
   "metadata": {},
   "outputs": [
    {
     "name": "stdout",
     "output_type": "stream",
     "text": [
      "\n",
      "--- Resumen de Mejor Dice Score ---\n",
      "DeepLabv3+: 0.5932\n"
     ]
    }
   ],
   "source": [
    "print(\"\\n--- Resumen de Mejor Dice Score ---\")\n",
    "for name, score in best_scores.items():\n",
    "    print(f\"{name}: {score:.4f}\")\n"
   ]
  },
  {
   "cell_type": "code",
   "execution_count": null,
   "id": "9714447f",
   "metadata": {},
   "outputs": [],
   "source": [
    "#"
   ]
  },
  {
   "cell_type": "code",
   "execution_count": null,
   "id": "d65e5ba5",
   "metadata": {},
   "outputs": [],
   "source": []
  },
  {
   "cell_type": "code",
   "execution_count": null,
   "id": "78383fed",
   "metadata": {},
   "outputs": [],
   "source": []
  }
 ],
 "metadata": {
  "kernelspec": {
   "display_name": "vision",
   "language": "python",
   "name": "python3"
  },
  "language_info": {
   "codemirror_mode": {
    "name": "ipython",
    "version": 3
   },
   "file_extension": ".py",
   "mimetype": "text/x-python",
   "name": "python",
   "nbconvert_exporter": "python",
   "pygments_lexer": "ipython3",
   "version": "3.11.13"
  }
 },
 "nbformat": 4,
 "nbformat_minor": 5
}
